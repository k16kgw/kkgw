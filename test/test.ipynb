{
 "cells": [
  {
   "cell_type": "code",
   "execution_count": 1,
   "metadata": {},
   "outputs": [
    {
     "name": "stdout",
     "output_type": "stream",
     "text": [
      "/Users/kagawakeiichiro/Documents/GitHub/kkgw\n"
     ]
    }
   ],
   "source": [
    "%cd ../"
   ]
  },
  {
   "cell_type": "code",
   "execution_count": 2,
   "metadata": {},
   "outputs": [],
   "source": [
    "import hashlib\n",
    "from glob import glob\n",
    "import os\n",
    "from pathlib import Path\n",
    "\n",
    "import numpy as np\n",
    "import matplotlib.pyplot as plt\n",
    "import seaborn as sns\n",
    "import japanize_matplotlib\n",
    "\n",
    "from scipy import optimize\n",
    "import matplotlib.pylab as p\n",
    "from mpl_toolkits.mplot3d import Axes3D \n",
    "from matplotlib import animation, rc\n",
    "\n",
    "import pickle"
   ]
  },
  {
   "cell_type": "code",
   "execution_count": 3,
   "metadata": {},
   "outputs": [],
   "source": [
    "from kkgw.math.DifferentialEquation import CahnHilliard\n",
    "from kkgw.math.Simulation import Calc"
   ]
  },
  {
   "cell_type": "code",
   "execution_count": 4,
   "metadata": {},
   "outputs": [
    {
     "name": "stdout",
     "output_type": "stream",
     "text": [
      "/Users/kagawakeiichiro/Documents/GitHub/kkgw/test\n"
     ]
    }
   ],
   "source": [
    "%cd ./test"
   ]
  },
  {
   "cell_type": "code",
   "execution_count": 5,
   "metadata": {},
   "outputs": [],
   "source": [
    "class CFG:\n",
    "    name = 'exp001'\n",
    "    input_dir = \"./data/input/\"\n",
    "    output_dir = f\"./data/output/{name}/\"\n",
    "    settings = {\n",
    "        'N': 10, # 内部領域の分割数\n",
    "        'Dx': 0.5, # 領域の分割幅\n",
    "        'Dt': 0.5, # 時間の分割幅\n",
    "        'brank': 10, # 解を保存するステップ間隔\n",
    "    }\n",
    "    params = {\n",
    "        'Gamma': 2, # 拡散項の係数\n",
    "        'const': 0.25, # 二重井戸型ポテンシャルの係数\n",
    "    }\n",
    "    initialdata = {\n",
    "        'a0': 0.01, # 初期値の係数\n",
    "        'wn': 4, # 波数\n",
    "        'func': 'a0 * np.cos(wn * np.pi*(idx)/(N+5))', # 関数形 idx: 空間番号\n",
    "    }"
   ]
  },
  {
   "cell_type": "code",
   "execution_count": 6,
   "metadata": {},
   "outputs": [],
   "source": [
    "INPUT_DIR = Path(CFG.input_dir)\n",
    "OUTPUT_DIR = Path(CFG.output_dir)\n",
    "OUTPUT_DIR.mkdir(parents=True, exist_ok=True)"
   ]
  },
  {
   "cell_type": "code",
   "execution_count": 9,
   "metadata": {},
   "outputs": [
    {
     "name": "stdout",
     "output_type": "stream",
     "text": [
      "t=1\n",
      "t=1000\n"
     ]
    }
   ],
   "source": [
    "calc = Calc(settings=CFG.settings, initialdata=CFG.initialdata, output_dir=OUTPUT_DIR)\n",
    "calc.preparation()\n",
    "CH = CahnHilliard(settings=CFG.settings, params=CFG.params)\n",
    "calc.calc(equation=CH.equation, init_time=0, timespan=1000)"
   ]
  }
 ],
 "metadata": {
  "interpreter": {
   "hash": "8bbeefe61f980c134c9103f64424620459ad8695709dd19085514701443d889f"
  },
  "kernelspec": {
   "display_name": "Python 3.8.5 ('base')",
   "language": "python",
   "name": "python3"
  },
  "language_info": {
   "codemirror_mode": {
    "name": "ipython",
    "version": 3
   },
   "file_extension": ".py",
   "mimetype": "text/x-python",
   "name": "python",
   "nbconvert_exporter": "python",
   "pygments_lexer": "ipython3",
   "version": "3.8.5"
  },
  "orig_nbformat": 4
 },
 "nbformat": 4,
 "nbformat_minor": 2
}
